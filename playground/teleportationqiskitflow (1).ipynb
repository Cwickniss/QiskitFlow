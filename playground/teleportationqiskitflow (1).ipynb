{
 "cells": [
  {
   "cell_type": "code",
   "execution_count": 2,
   "metadata": {},
   "outputs": [],
   "source": [
    "\n",
    "import qiskit\n",
    "import numpy as np\n",
    "from math import sqrt,pi\n",
    "from qiskit import *\n",
    "from qiskit.visualization import *\n",
    "from qiskit.extensions import Initialize\n",
    "from qiskit.quantum_info import *\n",
    "import time\n",
    "from qiskit.tools.monitor import job_monitor\n",
    "from qiskit.ignis.verification.tomography import *\n",
    " \n",
    "import math\n",
    "import datetime\n",
    "# from qiskit import QuantumRegister, ClassicalRegister, QuantumCircuit\n",
    "\n"
   ]
  },
  {
   "cell_type": "code",
   "execution_count": 3,
   "metadata": {},
   "outputs": [
    {
     "name": "stdout",
     "output_type": "stream",
     "text": [
      "[0.70710678+0.j 0.70710678+0.j]\n"
     ]
    },
    {
     "data": {
      "text/html": [
       "<pre style=\"word-wrap: normal;white-space: pre;background: #fff0;line-height: 1.1;font-family: &quot;Courier New&quot;,Courier,monospace\">         ┌─────────────────────────────┐ ░            ░      ┌───┐ ░         »\n",
       "q0_0: |0>┤ Initialize(0.70711,0.70711) ├─░────────────░───■──┤ H ├─░──■──────»\n",
       "         └─────────────────────────────┘ ░ ┌───┐      ░ ┌─┴─┐└───┘ ░  │      »\n",
       "q0_1: |0>────────────────────────────────░─┤ H ├──■───░─┤ X ├──────░──┼───■──»\n",
       "                                         ░ └───┘┌─┴─┐ ░ └───┘      ░  │ ┌─┴─┐»\n",
       "q0_2: |0>────────────────────────────────░──────┤ X ├─░────────────░──■─┤ X ├»\n",
       "                                         ░      └───┘ ░            ░    └───┘»\n",
       " c0_0: 0 ════════════════════════════════════════════════════════════════════»\n",
       "                                                                             »\n",
       "«         \n",
       "«q0_0: ───\n",
       "«         \n",
       "«q0_1: ───\n",
       "«      ┌─┐\n",
       "«q0_2: ┤M├\n",
       "«      └╥┘\n",
       "«c0_0: ═╩═\n",
       "«         </pre>"
      ],
      "text/plain": [
       "<qiskit.visualization.text.TextDrawing at 0x7f84fa28f908>"
      ]
     },
     "execution_count": 3,
     "metadata": {},
     "output_type": "execute_result"
    }
   ],
   "source": [
    "\n",
    "        \n",
    "qc = QuantumCircuit(1) # Create a quantum circuit with one qubit\n",
    "psi = [1/sqrt(2),1/sqrt(2)]   # Define initial_state in a superposition state\n",
    "initial_state =Initialize(psi)\n",
    "qc.append(initial_state, [0]) # Apply initialisation operation to the 0th qubit\n",
    "result = execute(qc,Aer.get_backend('statevector_simulator')).result() # Do the simulation, returning the result\n",
    "exp_state = result.get_statevector(qc)\n",
    "print(exp_state) # Display the output state vector\n",
    " \n",
    "    \n",
    "    \n",
    "    \n",
    "    \n",
    "qr = QuantumRegister(3)\n",
    "cr = ClassicalRegister(1)\n",
    "circuit = QuantumCircuit(qr,cr)\n",
    "\n",
    "circuit.append(initial_state,[0])\n",
    "circuit.barrier()\n",
    "\n",
    "circuit.h(qr[1])\n",
    "circuit.cx(qr[1],qr[2])\n",
    "circuit.barrier()\n",
    "\n",
    "\n",
    "circuit.cx(qr[0],qr[1])\n",
    "circuit.h(qr[0])\n",
    "circuit.barrier()\n",
    "\n",
    "circuit.cz(qr[0],qr[2])\n",
    "circuit.cx(qr[1],qr[2])\n",
    "#inverse_init_gate = initial_state.gates_to_uncompute()\n",
    "#circuit.append(inverse_init_gate,[2])\n",
    "circuit.measure(qr[2],cr)\n",
    "circuit.draw()   \n",
    "    \n",
    "   \n",
    "    \n",
    "    "
   ]
  },
  {
   "cell_type": "code",
   "execution_count": 7,
   "metadata": {},
   "outputs": [
    {
     "name": "stdout",
     "output_type": "stream",
     "text": [
      "Job Status: job has successfully run\n",
      "57c9255e-bf32-4864-b8e4-c4016b7f0795\n",
      "Time taken: 0.015126943588256836\n"
     ]
    }
   ],
   "source": [
    "t =time.time()\n",
    "\n",
    "backend = Aer.get_backend('qasm_simulator')\n",
    "\n",
    "job_circuit= execute(circuit,backend=backend,shots=1)\n",
    "device_counts = job_circuit.result().get_counts(circuit)\n",
    "job_monitor(job_circuit)\n",
    "print(job_circuit.job_id())\n",
    "\n",
    "print('Time taken:', time.time()-t)    "
   ]
  },
  {
   "cell_type": "code",
   "execution_count": 8,
   "metadata": {},
   "outputs": [
    {
     "data": {
      "text/html": [
       "<pre style=\"word-wrap: normal;white-space: pre;background: #fff0;line-height: 1.1;font-family: &quot;Courier New&quot;,Courier,monospace\">         ┌─────────────────────────────┐ ░            ░      ┌───┐ ░         \n",
       "q1_0: |0>┤ Initialize(0.70711,0.70711) ├─░────────────░───■──┤ H ├─░──■──────\n",
       "         └─────────────────────────────┘ ░ ┌───┐      ░ ┌─┴─┐└───┘ ░  │      \n",
       "q1_1: |0>────────────────────────────────░─┤ H ├──■───░─┤ X ├──────░──┼───■──\n",
       "                                         ░ └───┘┌─┴─┐ ░ └───┘      ░  │ ┌─┴─┐\n",
       "q1_2: |0>────────────────────────────────░──────┤ X ├─░────────────░──■─┤ X ├\n",
       "                                         ░      └───┘ ░            ░    └───┘</pre>"
      ],
      "text/plain": [
       "<qiskit.visualization.text.TextDrawing at 0x7f84fa2e0470>"
      ]
     },
     "execution_count": 8,
     "metadata": {},
     "output_type": "execute_result"
    }
   ],
   "source": [
    "qc = QuantumRegister(3)\n",
    "#cr = ClassicalRegister(1)\n",
    "circuit = QuantumCircuit(qc)\n",
    "\n",
    "circuit.append(initial_state,[0])\n",
    "circuit.barrier()\n",
    "\n",
    "circuit.h(qc[1])\n",
    "circuit.cx(qc[1],qc[2])\n",
    "circuit.barrier()\n",
    "\n",
    "\n",
    "circuit.cx(qc[0],qc[1])\n",
    "circuit.h(qc[0])\n",
    "circuit.barrier()\n",
    "\n",
    "circuit.cz(qc[0],qc[2])\n",
    "circuit.cx(qc[1],qc[2])\n",
    "#inverse_init_gate = initial_state.gates_to_uncompute()\n",
    "#circuit.append(inverse_init_gate,[2])\n",
    "#circuit.measure(qr[2],cr)\n",
    "circuit.draw()\n",
    "\n",
    "\n",
    "\n",
    "    "
   ]
  },
  {
   "cell_type": "code",
   "execution_count": 9,
   "metadata": {},
   "outputs": [
    {
     "name": "stdout",
     "output_type": "stream",
     "text": [
      "Job Status: job has successfully run\n",
      "6b66862d-bad7-4a0f-a912-0c095beeb7a5\n",
      "Time taken: 5.080190896987915\n",
      "[[0.50695733+0.j         0.49995106-0.00073235j]\n",
      " [0.49995106+0.00073235j 0.49304267+0.j        ]]\n",
      "Fit_fidelity_state: 0.9999510568727052\n",
      "1.0\n"
     ]
    }
   ],
   "source": [
    "t = time.time()\n",
    "qst_circuit = state_tomography_circuits(circuit,qc[2])\n",
    "job_circuit = execute(qst_circuit,backend=backend,shots=8192)\n",
    "job_monitor(job_circuit)\n",
    "\n",
    "print(job_circuit.job_id())\n",
    "print('Time taken:', time.time()-t)\n",
    "\n",
    "tomo_circuit = StateTomographyFitter(job_circuit.result(),qst_circuit)\n",
    "tomo_circuit.data\n",
    "\n",
    "rho_circuit = tomo_circuit.fit()\n",
    "print(rho_circuit)\n",
    "\n",
    "\n",
    "\n",
    "\n",
    "F_state = state_fidelity(exp_state,rho_circuit)\n",
    "print('Fit_fidelity_state:',F_state)\n",
    "\n",
    "\n",
    "plot_state_city(rho_circuit)\n",
    "\n",
    "\n",
    "pur = purity(rho_circuit)\n",
    "print(pur)\n",
    "    "
   ]
  },
  {
   "cell_type": "code",
   "execution_count": null,
   "metadata": {},
   "outputs": [],
   "source": []
  }
 ],
 "metadata": {
  "kernelspec": {
   "display_name": "Python 3",
   "language": "python",
   "name": "python3"
  },
  "language_info": {
   "codemirror_mode": {
    "name": "ipython",
    "version": 3
   },
   "file_extension": ".py",
   "mimetype": "text/x-python",
   "name": "python",
   "nbconvert_exporter": "python",
   "pygments_lexer": "ipython3",
   "version": "3.6.9"
  }
 },
 "nbformat": 4,
 "nbformat_minor": 4
}
